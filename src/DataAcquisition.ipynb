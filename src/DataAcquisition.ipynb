{
 "cells": [
  {
   "cell_type": "code",
   "execution_count": 6,
   "metadata": {},
   "outputs": [],
   "source": [
    "import utils.spacetrack as strack\n",
    "import requests\n",
    "import json\n",
    "import configparser\n",
    "import xlsxwriter\n",
    "import time\n",
    "from datetime import datetime"
   ]
  },
  {
   "cell_type": "markdown",
   "metadata": {},
   "source": [
    "## Step 1: Establish connection to space-track.org API\n",
    "\n",
    "You need an account to access this data programmatically, since they want to track who is using their api. They WILL ban your accoun (speaking from personal experience) if you query them too many times in a row, so it's important to access the API carefully when performing multiple calls in a row. \n",
    "\n",
    "My login information is in a file ./ted-login.ini, which will NOT be committed to the repository. Be careful to check their your login information not committed. \n",
    "\n",
    "TODO: https://www.space-track.org/documentation#howto "
   ]
  },
  {
   "cell_type": "code",
   "execution_count": null,
   "metadata": {},
   "outputs": [],
   "source": [
    "CREDENTIALS_NEVER_PRINT = strack.loadSiteCred(\"./utils/ted-strack.ini\")\n",
    "\n",
    "with requests.Session() as session:\n",
    "    login_resp = strack.api_login(session, CREDENTIALS_NEVER_PRINT)\n",
    "    #satcat_resp = strack.api_current_satellite_catalog(session)\n",
    "\n",
    "    session.close()\n",
    "\n",
    "        \n",
    "#workbook.close()\n",
    "print(\"Completed session\")"
   ]
  },
  {
   "cell_type": "code",
   "execution_count": null,
   "metadata": {},
   "outputs": [],
   "source": [
    "len(satcat_resp.text)"
   ]
  },
  {
   "cell_type": "markdown",
   "metadata": {},
   "source": [
    "## State Catalogs: decayed and not decayed\n",
    "\n",
    "We are also interested in getting state catalog information. Our objects should be in orbit, but we should account for any objects that decayed. Therefore, we have two catalogs: the active one and the decayed one"
   ]
  },
  {
   "cell_type": "code",
   "execution_count": null,
   "metadata": {},
   "outputs": [],
   "source": [
    "raise Exception(\"are you sure you want to repull the catalogs? \")"
   ]
  },
  {
   "cell_type": "code",
   "execution_count": null,
   "metadata": {},
   "outputs": [],
   "source": [
    "new_catalogs = strack.request_repull_current_and_decayed_satcats(\"./utils/ted-strack.ini\")\n",
    "\n",
    "with open('../data/raw/current_satcat_'+strack.timestamp()+'.json', 'w') as json_file:\n",
    "    json.dump(json.loads(new_catalogs[0]), json_file)\n",
    "\n",
    "with open('../data/raw/decayed_satcat_'+strack.timestamp()+'.json', 'w') as json_file:\n",
    "     json.dump(json.loads(new_catalogs[1]), json_file)"
   ]
  }
 ],
 "metadata": {
  "kernelspec": {
   "display_name": "ac209b-final-project",
   "language": "python",
   "name": "python3"
  },
  "language_info": {
   "codemirror_mode": {
    "name": "ipython",
    "version": 3
   },
   "file_extension": ".py",
   "mimetype": "text/x-python",
   "name": "python",
   "nbconvert_exporter": "python",
   "pygments_lexer": "ipython3",
   "version": "3.12.9"
  }
 },
 "nbformat": 4,
 "nbformat_minor": 2
}

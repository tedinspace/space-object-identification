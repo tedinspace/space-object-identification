{
 "cells": [
  {
   "cell_type": "markdown",
   "metadata": {},
   "source": [
    "# Milestone 2"
   ]
  },
  {
   "cell_type": "code",
   "execution_count": 1,
   "metadata": {},
   "outputs": [],
   "source": [
    "import pandas as pd\n",
    "import matplotlib.pyplot as plt\n",
    "import utils.preprocessing as pp"
   ]
  },
  {
   "cell_type": "markdown",
   "metadata": {},
   "source": [
    "## Data Acquisition\n",
    "\n",
    "We are using historical [Two-Line Element](https://en.wikipedia.org/wiki/Two-line_element_set) sets and satellite catalog information from the [space-track.org](https://www.space-track.org/) API. Space-track offers both a current state catalog as well as the ability to query historical state catalogs.\n",
    "\n",
    "For our project, we want to go back two years and pull the state record for the 1st and 15th of each month. Due to orbital perturbations, tactical space operations, and the nature of the TLE, state encodings for even stable objects will change over time. This makes having multiple state representations for the same object useful and prevents duplicate information. As a step zero, we pulled our snapshots from the space-track API and saved them as .zip files. We also pulled both the current satellite catalog as well as the decayed satellite catalog (and saved these as .zip files as well).\n",
    "\n",
    "**To see the process described above, visit the [DataAcquisition.ipynb](https://github.com/tedinspace/space-object-identification/blob/main/src/DataAcquisition.ipynb) notebook.**\n"
   ]
  },
  {
   "cell_type": "code",
   "execution_count": 2,
   "metadata": {},
   "outputs": [],
   "source": [
    "satCat_current = pd.DataFrame(pp.loadUnprocessedSatCat_current(\"../data/satcat.zip\")).set_index(\"NORAD_CAT_ID\")\n",
    "satCat_decayed = pd.DataFrame(pp.loadUnprocessedSatCat_decayed(\"../data/satcat.zip\")).set_index(\"NORAD_CAT_ID\")\n",
    "snapshot_states = pp.loadSeveralYearsOfUnprocessedStates([\"../data/snapshots_2023.zip\",\"../data/snapshots_2024_p1.zip\",\"../data/snapshots_2024_p2.zip\",\"../data/snapshots_2025.zip\"])"
   ]
  },
  {
   "cell_type": "markdown",
   "metadata": {},
   "source": [
    "## Data Description\n",
    "\n",
    "Now that we have the snapshots of our historical states saved locally, we can create a pandas dataframe that contains the following merged information:\n",
    "\n",
    "1. State information - in TLE form.\n",
    "2. Satellite catalog (satcat) information - descriptive information about a satellite.\n",
    "3. Calculated additional values - semi-major axis, apogee, perigee, and orbital regime need to be calculated using state information.\n"
   ]
  },
  {
   "cell_type": "markdown",
   "metadata": {},
   "source": [
    "#### State Data: Two-Line Element Sets"
   ]
  },
  {
   "cell_type": "markdown",
   "metadata": {},
   "source": [
    "\n",
    "[AEHF 4](https://www.n2yo.com/satellite/?s=43651)\n",
    "\n",
    "<table>\n",
    "<tbody>\n",
    "    <tr>\n",
    "        <td>Line 1</td>\n",
    "        <td>1 43651U 18079A   25074.81403196 -.00000276  00000-0  00000-0 0  9990</td>\n",
    "    </tr>\n",
    "     <tr>\n",
    "        <td>Line 2</td>\n",
    "        <td>2 43651   1.5535 338.6932 0052106   7.7813  52.6795  1.00274975 23705</td>\n",
    "    </tr>\n",
    "</tbody>\n",
    "</table>\n",
    "\n",
    "\n",
    "<h4>Line 1</h4>\n",
    "\n",
    "<table>\n",
    "  <tbody>\n",
    "     <tr> \n",
    "      <td>Relevant Info (Y/M/N)</td>\n",
    "      <td>Value</td>\n",
    "      <td>Name</td>\n",
    "      <td>Description</td>\n",
    "    </tr>\n",
    "    <tr> \n",
    "      <td style=\"background-color:red;\">N</td>\n",
    "      <td>1</td>\n",
    "      <td>Line Number</td>\n",
    "      <td>Identifies what line you are reading</td>\n",
    "    </tr>\n",
    "    <tr> \n",
    "      <td style=\"background-color:green;\">Y</td>\n",
    "      <td>43651</td>\n",
    "      <td>Catalog Number</td>\n",
    "      <td>A unique identifier for the satellite</td>\n",
    "    </tr>\n",
    "    <tr> \n",
    "      <td style=\"background-color:red;\">N</td>\n",
    "      <td>U</td>\n",
    "      <td>Classification</td>\n",
    "      <td>Indicates the object is unclassified</td>\n",
    "    </tr>\n",
    "    <tr> \n",
    "      <td style=\"background-color:red;\">N</td>\n",
    "      <td>18079A</td>\n",
    "      <td>International Designator</td>\n",
    "      <td>A unique identifier for the launch (year, launch number, piece of the launch)</td>\n",
    "    </tr>\n",
    "    <tr> \n",
    "      <td style=\"background-color:red;\">N</td>\n",
    "      <td>25074.81403196</td>\n",
    "      <td>Epoch Time</td>\n",
    "      <td>The time when the TLE was valid (in YYDDD.DDDDDDDD format); probably won't use as we want our model to be time independent</td>\n",
    "    </tr>\n",
    "    <tr> \n",
    "      <td style=\"background-color:orange;\">M</td>\n",
    "      <td>-0.00000276</td>\n",
    "      <td>First Derivative of the Mean Motion</td>\n",
    "      <td>Rate of change of the satellite’s orbit</td>\n",
    "    </tr>\n",
    "    <tr> \n",
    "      <td style=\"background-color:orange;\">M</td>\n",
    "      <td>00000-0</td>\n",
    "      <td>Second Derivative of Mean Motion (decimal point assumed)</td>\n",
    "      <td>Shows the acceleration of the satellite's orbit, which is usually close to zero</td>\n",
    "    </tr>\n",
    "    <tr> \n",
    "      <td style=\"background-color:orange;\">M</td>\n",
    "      <td>00000-0</td>\n",
    "      <td>B-STAR </td>\n",
    "      <td>The drag term, or radiation pressure coefficient (decimal point assumed)</td>\n",
    "    </tr>\n",
    "    <tr> \n",
    "      <td style=\"background-color:red;\">N</td>\n",
    "      <td>0</td>\n",
    "      <td>Ephem Type</td>\n",
    "      <td>Always zero</td>\n",
    "    </tr>\n",
    "    <tr> \n",
    "      <td style=\"background-color:red;\">N</td>\n",
    "      <td>999</td>\n",
    "      <td>ElSet Number</td>\n",
    "      <td>Element set number. Incremented when a new TLE is generated for this object</td>\n",
    "    </tr>\n",
    "    <tr> \n",
    "      <td style=\"background-color:red;\">N</td>\n",
    "      <td>0</td>\n",
    "      <td>CheckSum</td>\n",
    "      <td>Checksum (modulo 10)</td>\n",
    "    </tr>\n",
    "  </tbody>\n",
    "</table>\n",
    "\n",
    "\n",
    "<h4>Line 2</h4>\n",
    "\n",
    "<table>\n",
    "  <tbody>\n",
    "     <tr> \n",
    "      <td>Relevant Info (Y/M/N)</td>\n",
    "      <td>Value</td>\n",
    "      <td>Name</td>\n",
    "      <td>Description</td>\n",
    "    </tr>\n",
    "    <tr> \n",
    "      <td style=\"background-color:red;\">N</td>\n",
    "      <td>2</td>\n",
    "      <td>Line Number</td>\n",
    "      <td>Identifies the second line of the TLE</td>\n",
    "    </tr>\n",
    "    <tr> \n",
    "      <td style=\"background-color:red;\">N</td>\n",
    "      <td>43651</td>\n",
    "      <td>Catalog Number</td>\n",
    "      <td>The same unique identifier as in Line 1</td>\n",
    "    </tr>\n",
    "    <tr> \n",
    "      <td style=\"background-color:green;\">Y</td>\n",
    "      <td>1.5535</td>\n",
    "      <td>Inclination</td>\n",
    "      <td>The angle between the satellite's orbit and the equator, in degrees</td>\n",
    "    </tr>\n",
    "    <tr> \n",
    "      <td style=\"background-color:green;\">Y</td>\n",
    "      <td>338.6932</td>\n",
    "      <td>Right Ascension of Ascending Node (RAAN)</td>\n",
    "      <td>The angle from the vernal equinox to the ascending node of the orbit, in degrees</td>\n",
    "    </tr>\n",
    "    <tr> \n",
    "      <td style=\"background-color:green;\">Y</td>\n",
    "      <td>0052106</td>\n",
    "      <td>Eccentricity</td>\n",
    "      <td>The shape of the orbit; how much the orbit deviates from a perfect circle</td>\n",
    "    </tr>\n",
    "    <tr> \n",
    "      <td style=\"background-color:green;\">Y</td>\n",
    "      <td>7.7813</td>\n",
    "      <td>Argument of Perigee</td>\n",
    "      <td>The angle between the ascending node and the orbit's point of closest approach to Earth, in degrees</td>\n",
    "    </tr>\n",
    "    <tr> \n",
    "      <td style=\"background-color:green;\">Y</td>\n",
    "      <td>52.6795</td>\n",
    "      <td>Mean Anomaly</td>\n",
    "      <td>The fraction of an orbit's period that has elapsed since the satellite last passed perigee, in degrees</td>\n",
    "    </tr>\n",
    "    <tr> \n",
    "      <td style=\"background-color:green;\">Y</td>\n",
    "      <td>1.00274975</td>\n",
    "      <td>Mean Motion</td>\n",
    "      <td>The number of orbits the satellite completes per day</td>\n",
    "    </tr>\n",
    "    <tr> \n",
    "      <td style=\"background-color:red;\">N</td>\n",
    "      <td>2370</td>\n",
    "      <td>Revolution Number at Epoch</td>\n",
    "      <td>The number of orbits completed at the time of the epoch</td>\n",
    "    </tr>\n",
    "    <tr> \n",
    "      <td style=\"background-color:red;\">N</td>\n",
    "      <td>5</td>\n",
    "      <td>CheckSum</td>\n",
    "      <td>Checksum (modulo 10)</td>\n",
    "    </tr>\n",
    "  </tbody>\n",
    "</table>\n"
   ]
  },
  {
   "cell_type": "code",
   "execution_count": 3,
   "metadata": {},
   "outputs": [
    {
     "name": "stdout",
     "output_type": "stream",
     "text": [
      "0 VANGUARD 2\n",
      "1    11U 59001A   23227.52946902  .00000437  00000-0  21417-3 0  9992\n",
      "2    11  32.8786  39.4077 1461765 291.2012  53.8788 11.87271415753781\n"
     ]
    }
   ],
   "source": [
    "print(snapshot_states[0])\n",
    "print(snapshot_states[1])\n",
    "print(snapshot_states[2])"
   ]
  },
  {
   "cell_type": "markdown",
   "metadata": {},
   "source": [
    "#### Satellite Catalog Information"
   ]
  },
  {
   "cell_type": "markdown",
   "metadata": {},
   "source": [
    "<table>\n",
    "  <tbody>\n",
    "    <tr>\n",
    "      <td>Relevant Info (Y/M/N)</td>\n",
    "      <td>Name</td>\n",
    "      <td>Description</td>\n",
    "    </tr>\n",
    "    <tr>\n",
    "      <td style=\"background-color:red;\">N</td>\n",
    "      <td>NORAD_CAT_ID</td>\n",
    "      <td>(redundant) identifying number; referred to as an RSO (resident space object) number</td>\n",
    "    </tr>\n",
    "    <tr>\n",
    "      <td style=\"background-color:red;\">N</td>\n",
    "      <td>INTLDES</td>\n",
    "      <td>International Designator</td>\n",
    "    </tr>\n",
    "    <tr>\n",
    "      <td style=\"background-color:green;\">Y</td>\n",
    "      <td>OBJECT_TYPE</td>\n",
    "      <td>What type of object</td>\n",
    "    </tr>\n",
    "    <tr>\n",
    "      <td style=\"background-color:green;\">Y</td>\n",
    "      <td>SATNAME</td>\n",
    "      <td>Name of satellite</td>\n",
    "    </tr>\n",
    "    <tr>\n",
    "      <td style=\"background-color:red;\">N</td>\n",
    "      <td>COUNTRY</td>\n",
    "      <td>Country of origin - not relevant for our model but we added to df so we could investigate missingness</td>\n",
    "    </tr>\n",
    "    <tr>\n",
    "      <td style=\"background-color:red;\">N</td>\n",
    "      <td>LAUNCH</td>\n",
    "      <td>Launch date</td>\n",
    "    </tr>\n",
    "    <tr>\n",
    "      <td style=\"background-color:red;\">N</td>\n",
    "      <td>SITE</td>\n",
    "      <td>Launch site</td>\n",
    "    </tr>\n",
    "    <tr>\n",
    "      <td style=\"background-color:orange;\">M</td>\n",
    "      <td>DECAY</td>\n",
    "      <td>Date it decayed; null if still active</td>\n",
    "    </tr>\n",
    "    <tr>\n",
    "      <td style=\"background-color:red;\">N</td>\n",
    "      <td>PERIOD</td>\n",
    "      <td>Static state information to be disregarded</td>\n",
    "    </tr>\n",
    "    <tr>\n",
    "      <td style=\"background-color:red;\">N</td>\n",
    "      <td>INCLINATION</td>\n",
    "      <td>Static state information to be disregarded</td>\n",
    "    </tr>\n",
    "    <tr>\n",
    "      <td style=\"background-color:red;\">N</td>\n",
    "      <td>APOGEE</td>\n",
    "      <td>Static state information to be disregarded</td>\n",
    "    </tr>\n",
    "    <tr>\n",
    "      <td style=\"background-color:red;\">N</td>\n",
    "      <td>PERIGEE</td>\n",
    "      <td>Static state information to be disregarded</td>\n",
    "    </tr>\n",
    "    <tr>\n",
    "      <td style=\"background-color:red;\">N</td>\n",
    "      <td>COMMENT</td>\n",
    "      <td>Usually empty</td>\n",
    "    </tr>\n",
    "    <tr>\n",
    "      <td style=\"background-color:red;\">N</td>\n",
    "      <td>COMMENTCODE</td>\n",
    "      <td>Usually empty</td>\n",
    "    </tr>\n",
    "    <tr>\n",
    "      <td style=\"background-color:red;\">N</td>\n",
    "      <td>RCSVALUE</td>\n",
    "      <td>No longer filled out</td>\n",
    "    </tr>\n",
    "    <tr>\n",
    "      <td style=\"background-color:orange;\">M</td>\n",
    "      <td>RCS_SIZE</td>\n",
    "      <td>Vague descriptive size of object</td>\n",
    "    </tr>\n",
    "    <tr>\n",
    "      <td style=\"background-color:red;\">N</td>\n",
    "      <td>FILE</td>\n",
    "      <td></td>\n",
    "    </tr>\n",
    "    <tr>\n",
    "      <td style=\"background-color:red;\">N</td>\n",
    "      <td>LAUNCH_YEAR</td>\n",
    "      <td>Year of launch</td>\n",
    "    </tr>\n",
    "    <tr>\n",
    "      <td style=\"background-color:red;\">N</td>\n",
    "      <td>LAUNCH_NUM</td>\n",
    "      <td>Number of launch portion</td>\n",
    "    </tr>\n",
    "    <tr>\n",
    "      <td style=\"background-color:red;\">N</td>\n",
    "      <td>LAUNCH_PIECE</td>\n",
    "      <td>Portion of launch</td>\n",
    "    </tr>\n",
    "    <tr>\n",
    "      <td style=\"background-color:red;\">N</td>\n",
    "      <td>CURRENT</td>\n",
    "      <td>Doesn't encode useful information</td>\n",
    "    </tr>\n",
    "    <tr>\n",
    "      <td style=\"background-color:red;\">N</td>\n",
    "      <td>OBJECT_NAME</td>\n",
    "      <td>Redundant</td>\n",
    "    </tr>\n",
    "    <tr>\n",
    "      <td style=\"background-color:red;\">N</td>\n",
    "      <td>OBJECT_ID</td>\n",
    "      <td>Redundant</td>\n",
    "    </tr>\n",
    "  </tbody>\n",
    "</table>\n"
   ]
  },
  {
   "cell_type": "code",
   "execution_count": 4,
   "metadata": {},
   "outputs": [
    {
     "data": {
      "text/html": [
       "<div>\n",
       "<style scoped>\n",
       "    .dataframe tbody tr th:only-of-type {\n",
       "        vertical-align: middle;\n",
       "    }\n",
       "\n",
       "    .dataframe tbody tr th {\n",
       "        vertical-align: top;\n",
       "    }\n",
       "\n",
       "    .dataframe thead th {\n",
       "        text-align: right;\n",
       "    }\n",
       "</style>\n",
       "<table border=\"1\" class=\"dataframe\">\n",
       "  <thead>\n",
       "    <tr style=\"text-align: right;\">\n",
       "      <th></th>\n",
       "      <th>INTLDES</th>\n",
       "      <th>OBJECT_TYPE</th>\n",
       "      <th>SATNAME</th>\n",
       "      <th>COUNTRY</th>\n",
       "      <th>LAUNCH</th>\n",
       "      <th>SITE</th>\n",
       "      <th>DECAY</th>\n",
       "      <th>PERIOD</th>\n",
       "      <th>INCLINATION</th>\n",
       "      <th>APOGEE</th>\n",
       "      <th>...</th>\n",
       "      <th>RCSVALUE</th>\n",
       "      <th>RCS_SIZE</th>\n",
       "      <th>FILE</th>\n",
       "      <th>LAUNCH_YEAR</th>\n",
       "      <th>LAUNCH_NUM</th>\n",
       "      <th>LAUNCH_PIECE</th>\n",
       "      <th>CURRENT</th>\n",
       "      <th>OBJECT_NAME</th>\n",
       "      <th>OBJECT_ID</th>\n",
       "      <th>OBJECT_NUMBER</th>\n",
       "    </tr>\n",
       "    <tr>\n",
       "      <th>NORAD_CAT_ID</th>\n",
       "      <th></th>\n",
       "      <th></th>\n",
       "      <th></th>\n",
       "      <th></th>\n",
       "      <th></th>\n",
       "      <th></th>\n",
       "      <th></th>\n",
       "      <th></th>\n",
       "      <th></th>\n",
       "      <th></th>\n",
       "      <th></th>\n",
       "      <th></th>\n",
       "      <th></th>\n",
       "      <th></th>\n",
       "      <th></th>\n",
       "      <th></th>\n",
       "      <th></th>\n",
       "      <th></th>\n",
       "      <th></th>\n",
       "      <th></th>\n",
       "      <th></th>\n",
       "    </tr>\n",
       "  </thead>\n",
       "  <tbody>\n",
       "    <tr>\n",
       "      <th>5</th>\n",
       "      <td>1958-002B</td>\n",
       "      <td>PAYLOAD</td>\n",
       "      <td>VANGUARD 1</td>\n",
       "      <td>US</td>\n",
       "      <td>1958-03-17</td>\n",
       "      <td>AFETR</td>\n",
       "      <td>None</td>\n",
       "      <td>132.61</td>\n",
       "      <td>34.26</td>\n",
       "      <td>3822</td>\n",
       "      <td>...</td>\n",
       "      <td>0</td>\n",
       "      <td>SMALL</td>\n",
       "      <td>9072</td>\n",
       "      <td>1958</td>\n",
       "      <td>2</td>\n",
       "      <td>B</td>\n",
       "      <td>Y</td>\n",
       "      <td>VANGUARD 1</td>\n",
       "      <td>1958-002B</td>\n",
       "      <td>5</td>\n",
       "    </tr>\n",
       "    <tr>\n",
       "      <th>11</th>\n",
       "      <td>1959-001A</td>\n",
       "      <td>PAYLOAD</td>\n",
       "      <td>VANGUARD 2</td>\n",
       "      <td>US</td>\n",
       "      <td>1959-02-17</td>\n",
       "      <td>AFETR</td>\n",
       "      <td>None</td>\n",
       "      <td>121.07</td>\n",
       "      <td>32.87</td>\n",
       "      <td>2904</td>\n",
       "      <td>...</td>\n",
       "      <td>0</td>\n",
       "      <td>MEDIUM</td>\n",
       "      <td>9074</td>\n",
       "      <td>1959</td>\n",
       "      <td>1</td>\n",
       "      <td>A</td>\n",
       "      <td>Y</td>\n",
       "      <td>VANGUARD 2</td>\n",
       "      <td>1959-001A</td>\n",
       "      <td>11</td>\n",
       "    </tr>\n",
       "    <tr>\n",
       "      <th>12</th>\n",
       "      <td>1959-001B</td>\n",
       "      <td>ROCKET BODY</td>\n",
       "      <td>VANGUARD R/B</td>\n",
       "      <td>US</td>\n",
       "      <td>1959-02-17</td>\n",
       "      <td>AFETR</td>\n",
       "      <td>None</td>\n",
       "      <td>125.48</td>\n",
       "      <td>32.91</td>\n",
       "      <td>3295</td>\n",
       "      <td>...</td>\n",
       "      <td>0</td>\n",
       "      <td>MEDIUM</td>\n",
       "      <td>9074</td>\n",
       "      <td>1959</td>\n",
       "      <td>1</td>\n",
       "      <td>B</td>\n",
       "      <td>Y</td>\n",
       "      <td>VANGUARD R/B</td>\n",
       "      <td>1959-001B</td>\n",
       "      <td>12</td>\n",
       "    </tr>\n",
       "  </tbody>\n",
       "</table>\n",
       "<p>3 rows × 23 columns</p>\n",
       "</div>"
      ],
      "text/plain": [
       "                INTLDES  OBJECT_TYPE       SATNAME COUNTRY      LAUNCH   SITE  \\\n",
       "NORAD_CAT_ID                                                                    \n",
       "5             1958-002B      PAYLOAD    VANGUARD 1      US  1958-03-17  AFETR   \n",
       "11            1959-001A      PAYLOAD    VANGUARD 2      US  1959-02-17  AFETR   \n",
       "12            1959-001B  ROCKET BODY  VANGUARD R/B      US  1959-02-17  AFETR   \n",
       "\n",
       "             DECAY  PERIOD INCLINATION APOGEE  ... RCSVALUE RCS_SIZE  FILE  \\\n",
       "NORAD_CAT_ID                                   ...                           \n",
       "5             None  132.61       34.26   3822  ...        0    SMALL  9072   \n",
       "11            None  121.07       32.87   2904  ...        0   MEDIUM  9074   \n",
       "12            None  125.48       32.91   3295  ...        0   MEDIUM  9074   \n",
       "\n",
       "             LAUNCH_YEAR LAUNCH_NUM LAUNCH_PIECE CURRENT   OBJECT_NAME  \\\n",
       "NORAD_CAT_ID                                                             \n",
       "5                   1958          2            B       Y    VANGUARD 1   \n",
       "11                  1959          1            A       Y    VANGUARD 2   \n",
       "12                  1959          1            B       Y  VANGUARD R/B   \n",
       "\n",
       "              OBJECT_ID OBJECT_NUMBER  \n",
       "NORAD_CAT_ID                           \n",
       "5             1958-002B             5  \n",
       "11            1959-001A            11  \n",
       "12            1959-001B            12  \n",
       "\n",
       "[3 rows x 23 columns]"
      ]
     },
     "execution_count": 4,
     "metadata": {},
     "output_type": "execute_result"
    }
   ],
   "source": [
    "satCat_current.head(3)"
   ]
  },
  {
   "cell_type": "markdown",
   "metadata": {},
   "source": [
    "## Pre-processing Data\n",
    "\n",
    "#### Merging Datasets and Creating Regime Labels\n",
    "\n",
    "The code below performs the following steps:\n",
    "\n",
    "1. **Performs deduplication**: checks or and removes copies of the same state.\n",
    "2. **Checks for catalog information**: if the object doesn't have catalog information, we can't determine what type of object it is. Luckily, this occurs very rarely. \n",
    "3. **Extracts relevant information from TLE** and merges it with catalog information.\n",
    "4. **Additional Computation**:\n",
    "   - **Semi-major axis**: the distance from the center of an ellipse to the longer end of the ellipse.\n",
    "   - **Apogee / Perigee**: the furthest distance from Earth; the closest distance to Earth.\n",
    "   - **Regime**: while we might not use this in the model, it will be useful for examining data imbalances. For example: Is most debris in a particular regime?\n",
    "5. **Puts all accumulated information in a single data frame.**\n"
   ]
  },
  {
   "cell_type": "code",
   "execution_count": 5,
   "metadata": {},
   "outputs": [
    {
     "name": "stdout",
     "output_type": "stream",
     "text": [
      "684 objects not in catalog (removing these states)\n",
      "0 duplicate states found\n",
      "31313 unique objects\n",
      "1034009 unique, labeled states merged and available for analysis\n"
     ]
    },
    {
     "data": {
      "text/html": [
       "<div>\n",
       "<style scoped>\n",
       "    .dataframe tbody tr th:only-of-type {\n",
       "        vertical-align: middle;\n",
       "    }\n",
       "\n",
       "    .dataframe tbody tr th {\n",
       "        vertical-align: top;\n",
       "    }\n",
       "\n",
       "    .dataframe thead th {\n",
       "        text-align: right;\n",
       "    }\n",
       "</style>\n",
       "<table border=\"1\" class=\"dataframe\">\n",
       "  <thead>\n",
       "    <tr style=\"text-align: right;\">\n",
       "      <th></th>\n",
       "      <th>NUMBER</th>\n",
       "      <th>NAME</th>\n",
       "      <th>TYPE</th>\n",
       "      <th>RCS</th>\n",
       "      <th>IS_CURRENT</th>\n",
       "      <th>REGIME</th>\n",
       "      <th>EPOCH</th>\n",
       "      <th>INCL</th>\n",
       "      <th>RAAN</th>\n",
       "      <th>ECC</th>\n",
       "      <th>ARG_PER</th>\n",
       "      <th>MEAN_ANOM</th>\n",
       "      <th>MEAN_MOTION</th>\n",
       "      <th>SMA_KM</th>\n",
       "      <th>APOGEE_KM</th>\n",
       "      <th>PERIGEE_KM</th>\n",
       "      <th>MEAN_MOTION_1ST_DER</th>\n",
       "      <th>COUNTRY</th>\n",
       "      <th>LINE1</th>\n",
       "      <th>LINE2</th>\n",
       "    </tr>\n",
       "  </thead>\n",
       "  <tbody>\n",
       "    <tr>\n",
       "      <th>0</th>\n",
       "      <td>11</td>\n",
       "      <td>VANGUARD 2</td>\n",
       "      <td>PAYLOAD</td>\n",
       "      <td>MEDIUM</td>\n",
       "      <td>1</td>\n",
       "      <td>LEO</td>\n",
       "      <td>23227.529469</td>\n",
       "      <td>32.8786</td>\n",
       "      <td>39.4077</td>\n",
       "      <td>0.146176</td>\n",
       "      <td>291.2012</td>\n",
       "      <td>53.8788</td>\n",
       "      <td>11.872714</td>\n",
       "      <td>8116.494528</td>\n",
       "      <td>2924.83529</td>\n",
       "      <td>551.953765</td>\n",
       "      <td>0.000004</td>\n",
       "      <td>US</td>\n",
       "      <td>1    11U 59001A   23227.52946902  .00000437  0...</td>\n",
       "      <td>2    11  32.8786  39.4077 1461765 291.2012  53...</td>\n",
       "    </tr>\n",
       "    <tr>\n",
       "      <th>1</th>\n",
       "      <td>12</td>\n",
       "      <td>VANGUARD R/B</td>\n",
       "      <td>ROCKET BODY</td>\n",
       "      <td>MEDIUM</td>\n",
       "      <td>1</td>\n",
       "      <td>LEO</td>\n",
       "      <td>23227.463430</td>\n",
       "      <td>32.8971</td>\n",
       "      <td>270.9551</td>\n",
       "      <td>0.165991</td>\n",
       "      <td>26.7664</td>\n",
       "      <td>340.9673</td>\n",
       "      <td>11.457434</td>\n",
       "      <td>8311.452812</td>\n",
       "      <td>3312.97502</td>\n",
       "      <td>553.730604</td>\n",
       "      <td>0.000006</td>\n",
       "      <td>US</td>\n",
       "      <td>1    12U 59001B   23227.46343039  .00000595  0...</td>\n",
       "      <td>2    12  32.8971 270.9551 1659905  26.7664 340...</td>\n",
       "    </tr>\n",
       "    <tr>\n",
       "      <th>2</th>\n",
       "      <td>20</td>\n",
       "      <td>VANGUARD 3</td>\n",
       "      <td>PAYLOAD</td>\n",
       "      <td>MEDIUM</td>\n",
       "      <td>1</td>\n",
       "      <td>LEO</td>\n",
       "      <td>23227.738026</td>\n",
       "      <td>33.3573</td>\n",
       "      <td>26.3393</td>\n",
       "      <td>0.165788</td>\n",
       "      <td>275.1787</td>\n",
       "      <td>66.2525</td>\n",
       "      <td>11.577635</td>\n",
       "      <td>8253.825310</td>\n",
       "      <td>3244.10720</td>\n",
       "      <td>507.343421</td>\n",
       "      <td>0.000008</td>\n",
       "      <td>US</td>\n",
       "      <td>1    20U 59007A   23227.73802553  .00000750  0...</td>\n",
       "      <td>2    20  33.3573  26.3393 1657876 275.1787  66...</td>\n",
       "    </tr>\n",
       "  </tbody>\n",
       "</table>\n",
       "</div>"
      ],
      "text/plain": [
       "  NUMBER          NAME         TYPE     RCS  IS_CURRENT REGIME         EPOCH  \\\n",
       "0     11    VANGUARD 2      PAYLOAD  MEDIUM           1    LEO  23227.529469   \n",
       "1     12  VANGUARD R/B  ROCKET BODY  MEDIUM           1    LEO  23227.463430   \n",
       "2     20    VANGUARD 3      PAYLOAD  MEDIUM           1    LEO  23227.738026   \n",
       "\n",
       "      INCL      RAAN       ECC   ARG_PER  MEAN_ANOM  MEAN_MOTION       SMA_KM  \\\n",
       "0  32.8786   39.4077  0.146176  291.2012    53.8788    11.872714  8116.494528   \n",
       "1  32.8971  270.9551  0.165991   26.7664   340.9673    11.457434  8311.452812   \n",
       "2  33.3573   26.3393  0.165788  275.1787    66.2525    11.577635  8253.825310   \n",
       "\n",
       "    APOGEE_KM  PERIGEE_KM  MEAN_MOTION_1ST_DER COUNTRY  \\\n",
       "0  2924.83529  551.953765             0.000004      US   \n",
       "1  3312.97502  553.730604             0.000006      US   \n",
       "2  3244.10720  507.343421             0.000008      US   \n",
       "\n",
       "                                               LINE1  \\\n",
       "0  1    11U 59001A   23227.52946902  .00000437  0...   \n",
       "1  1    12U 59001B   23227.46343039  .00000595  0...   \n",
       "2  1    20U 59007A   23227.73802553  .00000750  0...   \n",
       "\n",
       "                                               LINE2  \n",
       "0  2    11  32.8786  39.4077 1461765 291.2012  53...  \n",
       "1  2    12  32.8971 270.9551 1659905  26.7664 340...  \n",
       "2  2    20  33.3573  26.3393 1657876 275.1787  66...  "
      ]
     },
     "execution_count": 5,
     "metadata": {},
     "output_type": "execute_result"
    }
   ],
   "source": [
    "aggregatedData, uncataloged_states, nDuplicatesFound = pp.deduplicateAndMergeDataSources(snapshot_states, satCat_current, satCat_decayed)\n",
    "\n",
    "print(f\"{len(uncataloged_states)} objects not in catalog (removing these states)\")\n",
    "print(f\"{nDuplicatesFound} duplicate states found\")\n",
    "\n",
    "# checks to make sure states not in catalog are the usual suspects\n",
    "for rso in uncataloged_states:\n",
    "    if \"TBA - TO BE ASSIGNED\" not in uncataloged_states[rso][0][0]:\n",
    "        print(uncataloged_states[rso])\n",
    "\n",
    "\n",
    "\n",
    "df = pd.DataFrame(aggregatedData)\n",
    "\n",
    "print(f\"{df.drop_duplicates(subset=\"NUMBER\", keep=\"first\").shape[0]} unique objects\")\n",
    "\n",
    "print(f\"{df.shape[0]} unique, labeled states merged and available for analysis\")\n",
    "\n",
    "df.head(3)"
   ]
  },
  {
   "cell_type": "markdown",
   "metadata": {},
   "source": [
    "### Missingness\n",
    "\n",
    "<i>\n",
    "Instructions (Delete This)\n",
    "\n",
    "Missing data may arise due to a range of factors, such as human error (e.g., intentional non-response to survey questions), malfunctioning electrical sensors, or other causes. When data is missing, a significant amount of valuable information can be lost. Investigate the extent and pattern of missing data. Determine the nature of missingness (Missing Completely at Random (MCAR), Missing at Random (MAR), Missing Not at Random (MNAR)) , these are CS1090a concepts, and apply the most suitable technique to address it. Options include data deletion, mean/mode imputation, or more advanced methods like multiple imputation or k-NN imputation. Justify your choice based on the dataset's characteristics.\n",
    "</i>"
   ]
  },
  {
   "cell_type": "markdown",
   "metadata": {},
   "source": [
    "1. some states don't have catalog information (they haven't been assigned yet)\n",
    "\n",
    "684 objects have been identified with 9321 states associated with them. This is less than 1% of our state data, so is not a concern to remove these states. \n",
    "\n",
    "\n",
    "After some investigation, we discovered that these are \"analyst objects, which according to space-track's documentation \"are on-orbit objects that are tracked by the U.S. Space Surveillance Network (SSN) with insufficient fidelity for publication in the public satellite catalog (SATCAT).\" \n",
    "\n",
    "TODO: Type of missingness\n"
   ]
  },
  {
   "cell_type": "code",
   "execution_count": 6,
   "metadata": {},
   "outputs": [
    {
     "name": "stdout",
     "output_type": "stream",
     "text": [
      "684 objects not in catalog (removing these states)\n",
      "9321 states removed in total\n",
      "missing catalog states make up 0.893% of data\n"
     ]
    }
   ],
   "source": [
    "print(f\"{len(uncataloged_states)} objects not in catalog (removing these states)\")\n",
    "n_states = 0\n",
    "for k in uncataloged_states:\n",
    "    n_states+=len(uncataloged_states[k])\n",
    "\n",
    "print(f\"{n_states} states removed in total\")\n",
    "\n",
    "print(f\"missing catalog states make up {round((n_states)/(n_states+df.shape[0])*100,3)}% of data\")"
   ]
  },
  {
   "cell_type": "markdown",
   "metadata": {},
   "source": [
    "2. some objects don't have RCS / size description (we filled these in as NA)\n",
    "\n",
    "Looking at the bar plot it seems that this type of missingess is Missing at Random (MAR), since debris seem to be more likely to not have RCS than others. This makes sense as debris are usually not tracked very often so it's common to not know much about the object. \n",
    "\n",
    "TODO : what to do"
   ]
  },
  {
   "cell_type": "code",
   "execution_count": 7,
   "metadata": {},
   "outputs": [
    {
     "name": "stdout",
     "output_type": "stream",
     "text": [
      "0.952% of states don't have an RCS category\n",
      "453 objects responsible for not having RCS\n"
     ]
    }
   ],
   "source": [
    "df_na_rcs = df[df['RCS']==\"NA\"]\n",
    "df_na_rcs_no_dup = df_na_rcs.drop_duplicates(subset='NUMBER', keep='first')\n",
    "\n",
    "print(f\"{round((df_na_rcs.shape[0])/(df_na_rcs.shape[0]+df.shape[0])*100,3)}% of states don't have an RCS category\")\n",
    "\n",
    "print(f\"{df_na_rcs_no_dup.shape[0]} objects responsible for not having RCS\")\n"
   ]
  },
  {
   "cell_type": "code",
   "execution_count": 8,
   "metadata": {},
   "outputs": [
    {
     "data": {
      "image/png": "[encoded data removed]",
      "text/plain": [
       "<Figure size 640x480 with 1 Axes>"
      ]
     },
     "metadata": {},
     "output_type": "display_data"
    }
   ],
   "source": [
    "\n",
    "df_na_rcs_no_dup[\"TYPE\"].value_counts().plot(kind='bar')\n",
    "\n",
    "plt.title('Type Counts of Objects without RCS')\n",
    "plt.xlabel('Object Type')\n",
    "plt.ylabel('Count')\n",
    "plt.xticks(rotation=0)  \n",
    "\n",
    "plt.grid()"
   ]
  },
  {
   "cell_type": "markdown",
   "metadata": {},
   "source": [
    "3. about 22K states aren't labeled as DB, RB, or Payload (around 2% of our total state data), but these states belong to only 453 objects. \n",
    "\n",
    "These are strange. All of them have the name OBJECT {Alphbetical Letter}. Most belong to China or are labeled as \"TBD.\" Some of TBD objects were strangely NOT in the Union of Concerned Scientists Database but were in N2YO (I only cross-referenced a few). The purpose of objects are likely in part classified for different reasons. Because we can't obtain more information about them, we should drop them, since having a  4th \"unknown\" category to our response variable is undesirable. \n",
    "\n",
    "\n",
    "TODO: type of missingness; MNAR? \n",
    "\n"
   ]
  },
  {
   "cell_type": "code",
   "execution_count": 9,
   "metadata": {},
   "outputs": [
    {
     "name": "stdout",
     "output_type": "stream",
     "text": [
      "0\n"
     ]
    },
    {
     "data": {
      "image/png": "[encoded data removed]",
      "text/plain": [
       "<Figure size 640x480 with 1 Axes>"
      ]
     },
     "metadata": {},
     "output_type": "display_data"
    }
   ],
   "source": [
    "df_unknown = df[df['TYPE']==\"UNKNOWN\"]\n",
    "df_unknown_no_dup = df_unknown.drop_duplicates(subset='NUMBER', keep='first')\n",
    "\n",
    "\n",
    "print(df_unknown_no_dup[~df_unknown_no_dup[\"NAME\"].str.contains('OBJECT')].shape[0]) # checks to see if all of them have \"OBJECT\" in their name\n",
    "\n",
    "df_unknown_no_dup.value_counts(\"COUNTRY\").plot(kind='bar')\n",
    "plt.grid()\n",
    "plt.title(\"Country Codes of 'UNKNOWN' type objects\")\n",
    "plt.ylabel('counts');"
   ]
  },
  {
   "cell_type": "markdown",
   "metadata": {},
   "source": [
    "### Data Imbalance \n",
    "\n",
    "<i>\n",
    "Instructions (Delete This): \n",
    "\n",
    "\n",
    "Imbalanced data is a common issue in classification problems when one class has significantly fewer samples than the other. When dealing with imbalanced data, machine learning models may learn to favor the majority class and make predictions that prioritize accuracy for that class. This can result in unsatisfactory performance for the minority class and reduced overall model effectiveness.Assess the class distribution in your dataset, especially for classification tasks. If a significant imbalance is present, consider resampling techniques (oversampling minorities or undersampling majorities) or applying synthetic data generation methods like SMOTE to achieve a balanced dataset, another CS1090a content piece.\n",
    "</i>"
   ]
  },
  {
   "cell_type": "markdown",
   "metadata": {},
   "source": [
    "1. Most state data is for is payloads \n",
    "\n",
    "\n",
    "TODO: is this consistent across regime? "
   ]
  },
  {
   "cell_type": "code",
   "execution_count": 10,
   "metadata": {},
   "outputs": [
    {
     "data": {
      "image/png": "[encoded data removed]",
      "text/plain": [
       "<Figure size 640x480 with 1 Axes>"
      ]
     },
     "metadata": {},
     "output_type": "display_data"
    }
   ],
   "source": [
    "df.value_counts(\"TYPE\").plot(kind='bar')\n",
    "plt.grid()"
   ]
  },
  {
   "cell_type": "code",
   "execution_count": 11,
   "metadata": {},
   "outputs": [
    {
     "data": {
      "image/png": "[encoded data removed]",
      "text/plain": [
       "<Figure size 2000x600 with 4 Axes>"
      ]
     },
     "metadata": {},
     "output_type": "display_data"
    }
   ],
   "source": [
    "\n",
    "df_leo = df[df[\"REGIME\"] == \"LEO\"]\n",
    "df_geo = df[df[\"REGIME\"] == \"GEO\"]\n",
    "df_meo = df[df[\"REGIME\"] == \"MEO\"]\n",
    "df_heo = df[df[\"REGIME\"] == \"HEO\"]\n",
    "\n",
    "fig, axes = plt.subplots(1, 4, figsize=(20, 6))\n",
    "df_leo.value_counts(\"TYPE\").plot(kind='bar', ax=axes[0], title=\"LEO\", color='skyblue')\n",
    "axes[0].grid(True)\n",
    "df_geo.value_counts(\"TYPE\").plot(kind='bar', ax=axes[1], title=\"GEO\", color='lightgreen')\n",
    "axes[1].grid(True)\n",
    "df_meo.value_counts(\"TYPE\").plot(kind='bar', ax=axes[2], title=\"MEO\", color='lightcoral')\n",
    "axes[2].grid(True)\n",
    "df_heo.value_counts(\"TYPE\").plot(kind='bar', ax=axes[3], title=\"HEO\", color='lightgoldenrodyellow')\n",
    "axes[3].grid(True)\n",
    "\n",
    "y_max = max(axes[0].get_ylim()[1], axes[1].get_ylim()[1], axes[2].get_ylim()[1], axes[3].get_ylim()[1])\n",
    "for ax in axes:\n",
    "    ax.set_ylim(0, y_max)\n",
    "\n",
    "plt.tight_layout()\n",
    "plt.show()\n"
   ]
  },
  {
   "cell_type": "markdown",
   "metadata": {},
   "source": [
    "is RCS/size missingness consistent across regimes? "
   ]
  },
  {
   "cell_type": "code",
   "execution_count": 75,
   "metadata": {},
   "outputs": [
    {
     "data": {
      "image/png": "[encoded data removed]",
      "text/plain": [
       "<Figure size 640x480 with 1 Axes>"
      ]
     },
     "metadata": {},
     "output_type": "display_data"
    }
   ],
   "source": [
    "df.value_counts(\"RCS\").plot(kind='bar')\n",
    "plt.grid()"
   ]
  },
  {
   "cell_type": "code",
   "execution_count": 12,
   "metadata": {},
   "outputs": [
    {
     "data": {
      "image/png": "[encoded data removed]",
      "text/plain": [
       "<Figure size 2000x600 with 4 Axes>"
      ]
     },
     "metadata": {},
     "output_type": "display_data"
    }
   ],
   "source": [
    "fig, axes = plt.subplots(1, 4, figsize=(20, 6))\n",
    "df_leo.value_counts(\"RCS\").plot(kind='bar', ax=axes[0], title=\"LEO\", color='skyblue')\n",
    "axes[0].grid(True)\n",
    "df_geo.value_counts(\"RCS\").plot(kind='bar', ax=axes[1], title=\"GEO\", color='lightgreen')\n",
    "axes[1].grid(True)\n",
    "df_meo.value_counts(\"RCS\").plot(kind='bar', ax=axes[2], title=\"MEO\", color='lightcoral')\n",
    "axes[2].grid(True)\n",
    "df_heo.value_counts(\"RCS\").plot(kind='bar', ax=axes[3], title=\"HEO\", color='lightgoldenrodyellow')\n",
    "axes[3].grid(True)\n",
    "\n",
    "y_max = max(axes[0].get_ylim()[1], axes[1].get_ylim()[1], axes[2].get_ylim()[1], axes[3].get_ylim()[1])\n",
    "for ax in axes:\n",
    "    ax.set_ylim(0, y_max)\n",
    "plt.tight_layout()\n",
    "plt.show()\n"
   ]
  },
  {
   "cell_type": "markdown",
   "metadata": {},
   "source": [
    "2. Most of our states are LEO regimes\n"
   ]
  },
  {
   "cell_type": "code",
   "execution_count": 65,
   "metadata": {},
   "outputs": [
    {
     "data": {
      "image/png": "[encoded data removed]",
      "text/plain": [
       "<Figure size 640x480 with 1 Axes>"
      ]
     },
     "metadata": {},
     "output_type": "display_data"
    }
   ],
   "source": [
    "df.value_counts(\"REGIME\").plot(kind='bar')\n",
    "plt.grid()"
   ]
  },
  {
   "cell_type": "markdown",
   "metadata": {},
   "source": [
    "### Feature Scaling:\n",
    "\n",
    "\n",
    "<i>\n",
    "Instructions (Delete This)\n",
    "\n",
    "Scaling the data is a crucial step in improving model performance and avoiding bias, as well as enhancing interpretability. When features are not appropriately scaled, those with larger scales can potentially dominate the analysis and result in biased conclusions. Standardize or normalize numerical features to ensure equal weighting in analytical models. Choose the most appropriate scaling method (e.g., Min-Max normalization, Z-score standardization) based on your data distribution and the models you plan to use.\n",
    "</i>\n",
    "\n",
    "\n",
    "1. should scale features \n",
    "\n",
    "2. should hot encode categorical variables "
   ]
  }
 ],
 "metadata": {
  "kernelspec": {
   "display_name": "ac209b-final-project",
   "language": "python",
   "name": "python3"
  },
  "language_info": {
   "codemirror_mode": {
    "name": "ipython",
    "version": 3
   },
   "file_extension": ".py",
   "mimetype": "text/x-python",
   "name": "python",
   "nbconvert_exporter": "python",
   "pygments_lexer": "ipython3",
   "version": "3.12.9"
  }
 },
 "nbformat": 4,
 "nbformat_minor": 2
}

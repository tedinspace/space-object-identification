{
 "cells": [
  {
   "cell_type": "code",
   "execution_count": 2,
   "metadata": {},
   "outputs": [],
   "source": [
    "import utils.spacetrack as strack\n",
    "import utils.time as tu\n",
    "import requests\n",
    "import json\n",
    "from datetime import datetime, timedelta\n",
    "import time"
   ]
  },
  {
   "cell_type": "code",
   "execution_count": null,
   "metadata": {},
   "outputs": [],
   "source": [
    "raise Exception(\"Are you sure you want to be running this notebook? Really it should only be ran one time. If yes you can comment this out\")"
   ]
  },
  {
   "cell_type": "markdown",
   "metadata": {},
   "source": [
    "## Establish connection to space-track.org API\n",
    "\n",
    "You need an account to access this data programmatically, since they want to track who is using their api. They WILL ban your accoun (speaking from personal experience) if you query them too many times in a row, so it's important to access the API carefully when performing multiple calls in a row. \n",
    "\n",
    "My login information is in a file ./ted-login.ini, which will NOT be committed to the repository. Be careful to check their your login information not committed. "
   ]
  },
  {
   "cell_type": "code",
   "execution_count": 2,
   "metadata": {},
   "outputs": [],
   "source": [
    "CREDENTIALS_NEVER_PRINT = strack.loadSiteCred(\"./utils/ted-strack.ini\")"
   ]
  },
  {
   "cell_type": "code",
   "execution_count": 3,
   "metadata": {},
   "outputs": [
    {
     "name": "stdout",
     "output_type": "stream",
     "text": [
      "you logged in!\n",
      "you logged out!\n"
     ]
    }
   ],
   "source": [
    "with requests.Session() as session:\n",
    "    login_resp = strack.api_login(session, CREDENTIALS_NEVER_PRINT)\n",
    "    print(\"you logged in!\")\n",
    "    session.close()\n",
    "print(\"you logged out!\")"
   ]
  },
  {
   "cell_type": "markdown",
   "metadata": {},
   "source": [
    "## Pull Catalog Snapshots\n",
    "\n",
    "we need to do the following\n",
    "\n",
    "1. establish a start date\n",
    "\n",
    "2. establish an end date\n",
    "\n",
    "3. write code that access the space-track.api (without violating its rules) and pull data \n",
    "\n",
    "4. save each day as its own text file \n",
    "\n",
    "*NOTE: this code should really only be ran one time, so I'm not too worried about optimizing/multi-threading*"
   ]
  },
  {
   "cell_type": "code",
   "execution_count": 4,
   "metadata": {},
   "outputs": [
    {
     "name": "stdout",
     "output_type": "stream",
     "text": [
      "Making request for 2023-03-15 00:00:00\n",
      "Saved snapshot for 2023-03-15 00:00:00\n",
      "Making request for 2023-04-01 00:00:00\n",
      "Saved snapshot for 2023-04-01 00:00:00\n",
      "Making request for 2023-04-15 00:00:00\n",
      "Saved snapshot for 2023-04-15 00:00:00\n",
      "Making request for 2023-05-01 00:00:00\n",
      "Saved snapshot for 2023-05-01 00:00:00\n",
      "Making request for 2023-05-15 00:00:00\n",
      "Saved snapshot for 2023-05-15 00:00:00\n",
      "Making request for 2023-06-01 00:00:00\n",
      "Saved snapshot for 2023-06-01 00:00:00\n",
      "Making request for 2023-06-15 00:00:00\n",
      "Saved snapshot for 2023-06-15 00:00:00\n",
      "Making request for 2023-07-01 00:00:00\n",
      "Saved snapshot for 2023-07-01 00:00:00\n",
      "Making request for 2023-07-15 00:00:00\n",
      "Saved snapshot for 2023-07-15 00:00:00\n",
      "Making request for 2023-08-01 00:00:00\n",
      "Saved snapshot for 2023-08-01 00:00:00\n",
      "Making request for 2023-08-15 00:00:00\n",
      "Saved snapshot for 2023-08-15 00:00:00\n",
      "Snoozing for 60 secs for rate limit reasons (max 20/min and 200/hr)...\n",
      "Making request for 2023-09-01 00:00:00\n",
      "Saved snapshot for 2023-09-01 00:00:00\n",
      "Making request for 2023-09-15 00:00:00\n",
      "Saved snapshot for 2023-09-15 00:00:00\n",
      "Making request for 2023-10-01 00:00:00\n",
      "Saved snapshot for 2023-10-01 00:00:00\n",
      "Making request for 2023-10-15 00:00:00\n",
      "Saved snapshot for 2023-10-15 00:00:00\n",
      "Making request for 2023-11-01 00:00:00\n",
      "Saved snapshot for 2023-11-01 00:00:00\n",
      "Making request for 2023-11-15 00:00:00\n",
      "Saved snapshot for 2023-11-15 00:00:00\n",
      "Making request for 2023-12-01 00:00:00\n",
      "Saved snapshot for 2023-12-01 00:00:00\n",
      "Making request for 2023-12-15 00:00:00\n",
      "Saved snapshot for 2023-12-15 00:00:00\n",
      "Making request for 2024-01-01 00:00:00\n",
      "Saved snapshot for 2024-01-01 00:00:00\n",
      "Making request for 2024-01-15 00:00:00\n",
      "Saved snapshot for 2024-01-15 00:00:00\n",
      "Making request for 2024-02-01 00:00:00\n",
      "Saved snapshot for 2024-02-01 00:00:00\n",
      "Snoozing for 60 secs for rate limit reasons (max 20/min and 200/hr)...\n",
      "Making request for 2024-02-15 00:00:00\n",
      "Saved snapshot for 2024-02-15 00:00:00\n",
      "Making request for 2024-03-01 00:00:00\n",
      "Saved snapshot for 2024-03-01 00:00:00\n",
      "Making request for 2024-03-15 00:00:00\n",
      "Saved snapshot for 2024-03-15 00:00:00\n",
      "done!\n"
     ]
    }
   ],
   "source": [
    "import requests\n",
    "from datetime import datetime, timedelta\n",
    "import time\n",
    "\n",
    "start_string = '2023-03-15'\n",
    "stop_string = '2024-03-15'\n",
    "n_pulls = 0\n",
    "\n",
    "with requests.Session() as session:\n",
    "    login_resp = strack.api_login(session, CREDENTIALS_NEVER_PRINT)\n",
    "\n",
    "    start_date = datetime.strptime(start_string, '%Y-%m-%d')\n",
    "    end_date = datetime.strptime(stop_string, '%Y-%m-%d')\n",
    "\n",
    "    current_date = start_date\n",
    "\n",
    "    while current_date <= end_date:\n",
    "        # Only process if it's the 1st or 15th of the month\n",
    "        if current_date.day == 1 or current_date.day == 15:\n",
    "            print(f\"Making request for {current_date}\")\n",
    "        \n",
    "            next_date = current_date + timedelta(days=1)\n",
    "            \n",
    "            res = strack.api_catalog_snapshot(session, tu.timestamp_query(current_date), tu.timestamp_query(next_date))\n",
    "            \n",
    "            if res.status_code == 200:\n",
    "                with open(f\"../data/raw/snapshots/snapshot_states_{tu.timestampe_file(current_date)}.txt\", 'w') as file:\n",
    "                    file.write(res.text)\n",
    "                print(f\"Saved snapshot for {current_date}\")\n",
    "            else:\n",
    "                print(f\"Failed to get data for {current_date}, status code: {res.status_code}\")\n",
    "            \n",
    "            n_pulls += 1\n",
    "\n",
    "            if n_pulls > 10:\n",
    "                print(\"Snoozing for 60 secs for rate limit reasons (max 20/min and 200/hr)...\")\n",
    "                time.sleep(60)\n",
    "                n_pulls = 0\n",
    "\n",
    "        current_date += timedelta(days=1)\n",
    "\n",
    "    session.close()\n",
    "\n",
    "print(\"done!\")\n"
   ]
  },
  {
   "cell_type": "markdown",
   "metadata": {},
   "source": [
    "## State Catalogs: decayed and not decayed\n",
    "\n",
    "We are also interested in getting state catalog information. Our objects should be in orbit, but we should account for any objects that decayed. Therefore, we have two catalogs: the active one and the decayed one"
   ]
  },
  {
   "cell_type": "code",
   "execution_count": 4,
   "metadata": {},
   "outputs": [],
   "source": [
    "new_catalogs = strack.request_repull_current_and_decayed_satcats(\"./utils/ted-strack.ini\")\n",
    "\n",
    "with open('../data/raw/current_satcat_'+tu.timestamp_file_now()+'.json', 'w') as json_file:\n",
    "    json.dump(json.loads(new_catalogs[0]), json_file)\n",
    "\n",
    "with open('../data/raw/decayed_satcat_'+tu.timestamp_file_now()+'.json', 'w') as json_file:\n",
    "     json.dump(json.loads(new_catalogs[1]), json_file)"
   ]
  }
 ],
 "metadata": {
  "kernelspec": {
   "display_name": "ac209b-final-project",
   "language": "python",
   "name": "python3"
  },
  "language_info": {
   "codemirror_mode": {
    "name": "ipython",
    "version": 3
   },
   "file_extension": ".py",
   "mimetype": "text/x-python",
   "name": "python",
   "nbconvert_exporter": "python",
   "pygments_lexer": "ipython3",
   "version": "3.12.9"
  }
 },
 "nbformat": 4,
 "nbformat_minor": 2
}
